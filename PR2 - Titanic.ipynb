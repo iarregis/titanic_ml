{
 "cells": [
  {
   "cell_type": "markdown",
   "metadata": {},
   "source": [
    "Este notebook versa sobre el dataset de la competición de _**Kaggle**_ **Titanic: Machine Learning from Disaster** (https://www.kaggle.com/c/titanic). A partir de los datos proveidos por **Kaggle** se pretende generar un modelo predictivo que permita predecir con el máximo nível de precisión las instancias del set de test que provee Kaggle. Este proyecto se incluye dentro del curso académico de la asignatura **Tipología y Ciclo de Vida de Datos** del **Máster en Ciencia de Datos** de la **Universitat Oberta de Catalunya**.\n",
    "\n",
    "En cuanto a los datos. Kaggle pone a disposición de las personas dos dataset:\n",
    " 1. **training set**: se trata del conjunto de datos donde se entrena el modelo predictivo. Cuenta con 891 instancias y 12 atributos, uno de los cuales es el atributo objetivo.\n",
    " 2. **test set**: se trata del conjunto de datos cuya clase objetivo pretende predecirse a partir del modelo creado con el conjunto de entrenamiento previo. Cuenta con 418 instancias y no cuenta con el atributo objetivo con el que si cuenta el set de entranamiento.\n",
    "\n",
    "En cuanto a los atributos presentes en ambos datasets, estos son:\n",
    " - **PassengerId**: identificador numérico del pasajero.\n",
    " - **Name**: nombre del pasajero.\n",
    " - **Pclass**: variable categórica que identifica la clase en la que viajaba el pasajero. Tres posibles valores: 1 (alta) / 2 (media) / 3 (baja)\n",
    " - **Sex**: sexo del pasajero. Valores: male/female\n",
    " - **Age**: edad del pasajero.\n",
    " - **SibSp**: número de hermanos/as y parejas de los pasajeros.\n",
    " - **ParCh**: número de niños/as o padres de los pasajeros.\n",
    " - **Ticket**: código alfanumérico que identifica el ticket de cada pasajero.\n",
    " - **Fare**: cantidad monetaria que cuesta el viaje a cada viajero. No queda clara la divisa. \n",
    " - **Cabin**: código alfanumérico de la cabina en la que realiza el viaje cada pasajero.\n",
    " - **Embarked**: código que indica lugar de embarque del pasajero. 3 posibles valores: C (Cherburgo) / S (Southampton) / Q (Queenstown)\n",
    " \n",
    "Por último, el set de entrenamiento cuenta con el atributo **Survived**, atributo categórico binario que indica si la persona a la que hace referencia la instancia sobrevivió o no al hundimiento del Titanic."
   ]
  },
  {
   "cell_type": "markdown",
   "metadata": {},
   "source": [
    "# Importación Librerías"
   ]
  },
  {
   "cell_type": "markdown",
   "metadata": {},
   "source": [
    "A continuación se procede a importar las librerías necesarias para llevar a cabo el objetivo del notebook."
   ]
  },
  {
   "cell_type": "code",
   "execution_count": 1,
   "metadata": {},
   "outputs": [
    {
     "name": "stderr",
     "output_type": "stream",
     "text": [
      "Using TensorFlow backend.\n"
     ]
    }
   ],
   "source": [
    "import numpy as np\n",
    "import pandas as pd\n",
    "import seaborn as sns\n",
    "import matplotlib.pyplot as plt\n",
    "from scipy import stats\n",
    "from fancyimpute import KNN\n",
    "import pandas_profiling\n",
    "import warnings\n",
    "from scipy.stats import chi2_contingency\n",
    "from scipy.stats import spearmanr\n",
    "from sklearn.preprocessing import StandardScaler\n",
    "from sklearn.model_selection import train_test_split\n",
    "from sklearn.model_selection import StratifiedKFold\n",
    "from sklearn.model_selection import GridSearchCV\n",
    "from sklearn.ensemble import RandomForestClassifier\n",
    "from sklearn.metrics import accuracy_score\n",
    "warnings.filterwarnings(\"ignore\")"
   ]
  },
  {
   "cell_type": "code",
   "execution_count": 2,
   "metadata": {},
   "outputs": [],
   "source": [
    "b='\\033[1m'\n",
    "n='\\033[0m'"
   ]
  },
  {
   "cell_type": "markdown",
   "metadata": {},
   "source": [
    "# Carga Datos"
   ]
  },
  {
   "cell_type": "code",
   "execution_count": 3,
   "metadata": {},
   "outputs": [],
   "source": [
    "df_train=pd.read_csv(\"Data_Titanic/train.csv\")\n",
    "df_test=pd.read_csv(\"Data_Titanic/test.csv\")"
   ]
  },
  {
   "cell_type": "markdown",
   "metadata": {},
   "source": [
    "# Inspección Dataframes"
   ]
  },
  {
   "cell_type": "code",
   "execution_count": 4,
   "metadata": {},
   "outputs": [
    {
     "name": "stdout",
     "output_type": "stream",
     "text": [
      "\u001b[1mNúmero de Instancias:\u001b[0m \n",
      "\t\u001b[1m- Train:\u001b[0m 891 \n",
      "\t\u001b[1m- Test:\u001b[0m 418\n",
      "\u001b[1mNúmero de Columnas:\u001b[0m \n",
      "\t\u001b[1m- Train:\u001b[0m 12 \n",
      "\t\u001b[1m- Test:\u001b[0m 11\n"
     ]
    }
   ],
   "source": [
    "# Calculo dimensiones training set\n",
    "rowstr=df_train.shape[0]\n",
    "rowste=df_test.shape[0]\n",
    "# Calculo dimensiones test set\n",
    "colstr=df_train.shape[1]\n",
    "colste=df_test.shape[1]\n",
    "\n",
    "print(f\"{b}Número de Instancias:{n} \\n\\t{b}- Train:{n} {rowstr} \\n\\t{b}- Test:{n} {rowste}\")\n",
    "print(f\"{b}Número de Columnas:{n} \\n\\t{b}- Train:{n} {colstr} \\n\\t{b}- Test:{n} {colste}\")"
   ]
  },
  {
   "cell_type": "markdown",
   "metadata": {},
   "source": [
    "Analizamos la prsencia de **valores ausentes**:"
   ]
  },
  {
   "cell_type": "code",
   "execution_count": 5,
   "metadata": {},
   "outputs": [
    {
     "name": "stdout",
     "output_type": "stream",
     "text": [
      "\u001b[1mValores ausentes df_train\u001b[0m:\n",
      "PassengerId      0\n",
      "Survived         0\n",
      "Pclass           0\n",
      "Name             0\n",
      "Sex              0\n",
      "Age            177\n",
      "SibSp            0\n",
      "Parch            0\n",
      "Ticket           0\n",
      "Fare             0\n",
      "Cabin          687\n",
      "Embarked         2\n",
      "dtype: int64\n",
      "\n",
      "\u001b[1mValores ausentes df_test\u001b[0m:\n",
      "PassengerId      0\n",
      "Pclass           0\n",
      "Name             0\n",
      "Sex              0\n",
      "Age             86\n",
      "SibSp            0\n",
      "Parch            0\n",
      "Ticket           0\n",
      "Fare             1\n",
      "Cabin          327\n",
      "Embarked         0\n",
      "dtype: int64\n"
     ]
    }
   ],
   "source": [
    "print(f\"{b}Valores ausentes df_train{n}:\")\n",
    "print(df_train.isna().sum())\n",
    "print(f\"\\n{b}Valores ausentes df_test{n}:\")\n",
    "print(df_test.isna().sum())"
   ]
  },
  {
   "cell_type": "markdown",
   "metadata": {},
   "source": [
    "A partir de los datos analizados se observa como **df_train** dispone de 3 atributos con valores ausentes:\n",
    " - **Age**: 177 registros\n",
    " - **Cabin**: 687 registros\n",
    " - **Embarked**: 2 registros\n",
    "\n",
    "Por otro lado, **df_test** dispone de 2 atributos con valores ausentes:\n",
    " \n",
    " - **Age**: 86 registros\n",
    " - **Cabin**: 327 registros"
   ]
  },
  {
   "cell_type": "markdown",
   "metadata": {},
   "source": [
    "# Preprocesamiento"
   ]
  },
  {
   "cell_type": "markdown",
   "metadata": {},
   "source": [
    "## Selección Atributos de Interés"
   ]
  },
  {
   "cell_type": "markdown",
   "metadata": {},
   "source": [
    "A continuación se seleccionan los atributos de interés para lograr desarrollar un modelo predictivo que responda a la pregunta ¿Qué tipo de personas son más proclives a sobrevivir en el hundimiento del Titanic? Cabe destacar que este proceso se lleva a cabo pensando en el set de entrenamiento, con tal de poder aplicar el modelo predictivo que se generará en los siguientes pasos.\n",
    "\n",
    "Para ello se seleccionan todos los atributos salvo **Name, Ticked,Cabin**. De cara a poder predecir quién sobrevivió al hundimiento, conocer el nombre de los pasajeros es irrelevante, así como la numeración/código del Ticket, dado que disponemos de información más descriptiva como la clase en la que viaja cada individuo, así como los familiares con los que viaje y el precio de billete. Por otro lado, el atributo Cabin también ha sido descartado dado que no ofrece a priori información relevante, mientras que dispone de una alta tasa de valores ausentes, 687 de 891, lo que representa en torno al 77% de los registros.\n",
    "\n",
    "Por otro lado, al margen de seleccionar atributos también se ha procedido a alterar el orden en el que se almacenan los atributos en el dataframe de manera que estos disponga de un orden más intuitivo.\n",
    "\n",
    "Así, de cara a tratar los valores ausentes de las variables seleccionadas, solo será necesario realizar este procedemiento con los atributos **Age** y **Embarked**."
   ]
  },
  {
   "cell_type": "code",
   "execution_count": 6,
   "metadata": {},
   "outputs": [],
   "source": [
    "train=df_train[['PassengerId','Sex','Age','SibSp','Parch','Embarked','Pclass','Fare','Survived']]\n",
    "test=df_test[['PassengerId','Sex','Age','SibSp','Parch','Embarked','Pclass','Fare']]"
   ]
  },
  {
   "cell_type": "code",
   "execution_count": 7,
   "metadata": {},
   "outputs": [
    {
     "data": {
      "text/html": [
       "<div>\n",
       "<style scoped>\n",
       "    .dataframe tbody tr th:only-of-type {\n",
       "        vertical-align: middle;\n",
       "    }\n",
       "\n",
       "    .dataframe tbody tr th {\n",
       "        vertical-align: top;\n",
       "    }\n",
       "\n",
       "    .dataframe thead th {\n",
       "        text-align: right;\n",
       "    }\n",
       "</style>\n",
       "<table border=\"1\" class=\"dataframe\">\n",
       "  <thead>\n",
       "    <tr style=\"text-align: right;\">\n",
       "      <th></th>\n",
       "      <th>PassengerId</th>\n",
       "      <th>Sex</th>\n",
       "      <th>Age</th>\n",
       "      <th>SibSp</th>\n",
       "      <th>Parch</th>\n",
       "      <th>Embarked</th>\n",
       "      <th>Pclass</th>\n",
       "      <th>Fare</th>\n",
       "      <th>Survived</th>\n",
       "    </tr>\n",
       "  </thead>\n",
       "  <tbody>\n",
       "    <tr>\n",
       "      <th>0</th>\n",
       "      <td>1</td>\n",
       "      <td>male</td>\n",
       "      <td>22.0</td>\n",
       "      <td>1</td>\n",
       "      <td>0</td>\n",
       "      <td>S</td>\n",
       "      <td>3</td>\n",
       "      <td>7.2500</td>\n",
       "      <td>0</td>\n",
       "    </tr>\n",
       "    <tr>\n",
       "      <th>1</th>\n",
       "      <td>2</td>\n",
       "      <td>female</td>\n",
       "      <td>38.0</td>\n",
       "      <td>1</td>\n",
       "      <td>0</td>\n",
       "      <td>C</td>\n",
       "      <td>1</td>\n",
       "      <td>71.2833</td>\n",
       "      <td>1</td>\n",
       "    </tr>\n",
       "    <tr>\n",
       "      <th>2</th>\n",
       "      <td>3</td>\n",
       "      <td>female</td>\n",
       "      <td>26.0</td>\n",
       "      <td>0</td>\n",
       "      <td>0</td>\n",
       "      <td>S</td>\n",
       "      <td>3</td>\n",
       "      <td>7.9250</td>\n",
       "      <td>1</td>\n",
       "    </tr>\n",
       "    <tr>\n",
       "      <th>3</th>\n",
       "      <td>4</td>\n",
       "      <td>female</td>\n",
       "      <td>35.0</td>\n",
       "      <td>1</td>\n",
       "      <td>0</td>\n",
       "      <td>S</td>\n",
       "      <td>1</td>\n",
       "      <td>53.1000</td>\n",
       "      <td>1</td>\n",
       "    </tr>\n",
       "    <tr>\n",
       "      <th>4</th>\n",
       "      <td>5</td>\n",
       "      <td>male</td>\n",
       "      <td>35.0</td>\n",
       "      <td>0</td>\n",
       "      <td>0</td>\n",
       "      <td>S</td>\n",
       "      <td>3</td>\n",
       "      <td>8.0500</td>\n",
       "      <td>0</td>\n",
       "    </tr>\n",
       "  </tbody>\n",
       "</table>\n",
       "</div>"
      ],
      "text/plain": [
       "   PassengerId     Sex   Age  SibSp  Parch Embarked  Pclass     Fare  Survived\n",
       "0            1    male  22.0      1      0        S       3   7.2500         0\n",
       "1            2  female  38.0      1      0        C       1  71.2833         1\n",
       "2            3  female  26.0      0      0        S       3   7.9250         1\n",
       "3            4  female  35.0      1      0        S       1  53.1000         1\n",
       "4            5    male  35.0      0      0        S       3   8.0500         0"
      ]
     },
     "execution_count": 7,
     "metadata": {},
     "output_type": "execute_result"
    }
   ],
   "source": [
    "train.head()"
   ]
  },
  {
   "cell_type": "code",
   "execution_count": 8,
   "metadata": {},
   "outputs": [
    {
     "data": {
      "text/html": [
       "<div>\n",
       "<style scoped>\n",
       "    .dataframe tbody tr th:only-of-type {\n",
       "        vertical-align: middle;\n",
       "    }\n",
       "\n",
       "    .dataframe tbody tr th {\n",
       "        vertical-align: top;\n",
       "    }\n",
       "\n",
       "    .dataframe thead th {\n",
       "        text-align: right;\n",
       "    }\n",
       "</style>\n",
       "<table border=\"1\" class=\"dataframe\">\n",
       "  <thead>\n",
       "    <tr style=\"text-align: right;\">\n",
       "      <th></th>\n",
       "      <th>PassengerId</th>\n",
       "      <th>Sex</th>\n",
       "      <th>Age</th>\n",
       "      <th>SibSp</th>\n",
       "      <th>Parch</th>\n",
       "      <th>Embarked</th>\n",
       "      <th>Pclass</th>\n",
       "      <th>Fare</th>\n",
       "    </tr>\n",
       "  </thead>\n",
       "  <tbody>\n",
       "    <tr>\n",
       "      <th>0</th>\n",
       "      <td>892</td>\n",
       "      <td>male</td>\n",
       "      <td>34.5</td>\n",
       "      <td>0</td>\n",
       "      <td>0</td>\n",
       "      <td>Q</td>\n",
       "      <td>3</td>\n",
       "      <td>7.8292</td>\n",
       "    </tr>\n",
       "    <tr>\n",
       "      <th>1</th>\n",
       "      <td>893</td>\n",
       "      <td>female</td>\n",
       "      <td>47.0</td>\n",
       "      <td>1</td>\n",
       "      <td>0</td>\n",
       "      <td>S</td>\n",
       "      <td>3</td>\n",
       "      <td>7.0000</td>\n",
       "    </tr>\n",
       "    <tr>\n",
       "      <th>2</th>\n",
       "      <td>894</td>\n",
       "      <td>male</td>\n",
       "      <td>62.0</td>\n",
       "      <td>0</td>\n",
       "      <td>0</td>\n",
       "      <td>Q</td>\n",
       "      <td>2</td>\n",
       "      <td>9.6875</td>\n",
       "    </tr>\n",
       "    <tr>\n",
       "      <th>3</th>\n",
       "      <td>895</td>\n",
       "      <td>male</td>\n",
       "      <td>27.0</td>\n",
       "      <td>0</td>\n",
       "      <td>0</td>\n",
       "      <td>S</td>\n",
       "      <td>3</td>\n",
       "      <td>8.6625</td>\n",
       "    </tr>\n",
       "    <tr>\n",
       "      <th>4</th>\n",
       "      <td>896</td>\n",
       "      <td>female</td>\n",
       "      <td>22.0</td>\n",
       "      <td>1</td>\n",
       "      <td>1</td>\n",
       "      <td>S</td>\n",
       "      <td>3</td>\n",
       "      <td>12.2875</td>\n",
       "    </tr>\n",
       "  </tbody>\n",
       "</table>\n",
       "</div>"
      ],
      "text/plain": [
       "   PassengerId     Sex   Age  SibSp  Parch Embarked  Pclass     Fare\n",
       "0          892    male  34.5      0      0        Q       3   7.8292\n",
       "1          893  female  47.0      1      0        S       3   7.0000\n",
       "2          894    male  62.0      0      0        Q       2   9.6875\n",
       "3          895    male  27.0      0      0        S       3   8.6625\n",
       "4          896  female  22.0      1      1        S       3  12.2875"
      ]
     },
     "execution_count": 8,
     "metadata": {},
     "output_type": "execute_result"
    }
   ],
   "source": [
    "test.head()"
   ]
  },
  {
   "cell_type": "markdown",
   "metadata": {},
   "source": [
    "## Conversión Variables"
   ]
  },
  {
   "cell_type": "markdown",
   "metadata": {},
   "source": [
    "A continuación se procede a convertir la variable Sex a una variable dicotómica numérica y la variable Embarked a una variable categória con tres factores numéricos enteros. En futuros pasos se procederá a realizar una imputación de valores ausentes a través de k-Nearest Neighbors, algoritmo que utiliza la **distancia euclidea** para identificar los K elementos más semejos a cada registro, razón por la cual es necesario disponer únicamente de atributos numéricos.\n",
    "\n",
    "Conversión Atributo Sex:"
   ]
  },
  {
   "cell_type": "code",
   "execution_count": 9,
   "metadata": {},
   "outputs": [],
   "source": [
    "train.Sex=train.Sex.map({'male':0,'female':1})\n",
    "test.Sex=test.Sex.map({'male':0,'female':1})"
   ]
  },
  {
   "cell_type": "markdown",
   "metadata": {},
   "source": [
    "Conversión Atributo Embarked:"
   ]
  },
  {
   "cell_type": "code",
   "execution_count": 10,
   "metadata": {},
   "outputs": [
    {
     "data": {
      "text/plain": [
       "array(['S', 'C', 'Q', nan], dtype=object)"
      ]
     },
     "execution_count": 10,
     "metadata": {},
     "output_type": "execute_result"
    }
   ],
   "source": [
    "train['Embarked'].unique()"
   ]
  },
  {
   "cell_type": "code",
   "execution_count": 11,
   "metadata": {},
   "outputs": [],
   "source": [
    "train.Embarked=train.Embarked.map({'S':1,'C':2,'Q':3})\n",
    "test.Embarked=test.Embarked.map({'S':1,'C':2,'Q':3})"
   ]
  },
  {
   "cell_type": "markdown",
   "metadata": {},
   "source": [
    "Inspección Dataframes:"
   ]
  },
  {
   "cell_type": "code",
   "execution_count": 12,
   "metadata": {},
   "outputs": [
    {
     "data": {
      "text/html": [
       "<div>\n",
       "<style scoped>\n",
       "    .dataframe tbody tr th:only-of-type {\n",
       "        vertical-align: middle;\n",
       "    }\n",
       "\n",
       "    .dataframe tbody tr th {\n",
       "        vertical-align: top;\n",
       "    }\n",
       "\n",
       "    .dataframe thead th {\n",
       "        text-align: right;\n",
       "    }\n",
       "</style>\n",
       "<table border=\"1\" class=\"dataframe\">\n",
       "  <thead>\n",
       "    <tr style=\"text-align: right;\">\n",
       "      <th></th>\n",
       "      <th>PassengerId</th>\n",
       "      <th>Sex</th>\n",
       "      <th>Age</th>\n",
       "      <th>SibSp</th>\n",
       "      <th>Parch</th>\n",
       "      <th>Embarked</th>\n",
       "      <th>Pclass</th>\n",
       "      <th>Fare</th>\n",
       "      <th>Survived</th>\n",
       "    </tr>\n",
       "  </thead>\n",
       "  <tbody>\n",
       "    <tr>\n",
       "      <th>0</th>\n",
       "      <td>1</td>\n",
       "      <td>0</td>\n",
       "      <td>22.0</td>\n",
       "      <td>1</td>\n",
       "      <td>0</td>\n",
       "      <td>1.0</td>\n",
       "      <td>3</td>\n",
       "      <td>7.2500</td>\n",
       "      <td>0</td>\n",
       "    </tr>\n",
       "    <tr>\n",
       "      <th>1</th>\n",
       "      <td>2</td>\n",
       "      <td>1</td>\n",
       "      <td>38.0</td>\n",
       "      <td>1</td>\n",
       "      <td>0</td>\n",
       "      <td>2.0</td>\n",
       "      <td>1</td>\n",
       "      <td>71.2833</td>\n",
       "      <td>1</td>\n",
       "    </tr>\n",
       "    <tr>\n",
       "      <th>2</th>\n",
       "      <td>3</td>\n",
       "      <td>1</td>\n",
       "      <td>26.0</td>\n",
       "      <td>0</td>\n",
       "      <td>0</td>\n",
       "      <td>1.0</td>\n",
       "      <td>3</td>\n",
       "      <td>7.9250</td>\n",
       "      <td>1</td>\n",
       "    </tr>\n",
       "    <tr>\n",
       "      <th>3</th>\n",
       "      <td>4</td>\n",
       "      <td>1</td>\n",
       "      <td>35.0</td>\n",
       "      <td>1</td>\n",
       "      <td>0</td>\n",
       "      <td>1.0</td>\n",
       "      <td>1</td>\n",
       "      <td>53.1000</td>\n",
       "      <td>1</td>\n",
       "    </tr>\n",
       "    <tr>\n",
       "      <th>4</th>\n",
       "      <td>5</td>\n",
       "      <td>0</td>\n",
       "      <td>35.0</td>\n",
       "      <td>0</td>\n",
       "      <td>0</td>\n",
       "      <td>1.0</td>\n",
       "      <td>3</td>\n",
       "      <td>8.0500</td>\n",
       "      <td>0</td>\n",
       "    </tr>\n",
       "  </tbody>\n",
       "</table>\n",
       "</div>"
      ],
      "text/plain": [
       "   PassengerId  Sex   Age  SibSp  Parch  Embarked  Pclass     Fare  Survived\n",
       "0            1    0  22.0      1      0       1.0       3   7.2500         0\n",
       "1            2    1  38.0      1      0       2.0       1  71.2833         1\n",
       "2            3    1  26.0      0      0       1.0       3   7.9250         1\n",
       "3            4    1  35.0      1      0       1.0       1  53.1000         1\n",
       "4            5    0  35.0      0      0       1.0       3   8.0500         0"
      ]
     },
     "execution_count": 12,
     "metadata": {},
     "output_type": "execute_result"
    }
   ],
   "source": [
    "train.head()"
   ]
  },
  {
   "cell_type": "code",
   "execution_count": 13,
   "metadata": {},
   "outputs": [
    {
     "data": {
      "text/html": [
       "<div>\n",
       "<style scoped>\n",
       "    .dataframe tbody tr th:only-of-type {\n",
       "        vertical-align: middle;\n",
       "    }\n",
       "\n",
       "    .dataframe tbody tr th {\n",
       "        vertical-align: top;\n",
       "    }\n",
       "\n",
       "    .dataframe thead th {\n",
       "        text-align: right;\n",
       "    }\n",
       "</style>\n",
       "<table border=\"1\" class=\"dataframe\">\n",
       "  <thead>\n",
       "    <tr style=\"text-align: right;\">\n",
       "      <th></th>\n",
       "      <th>PassengerId</th>\n",
       "      <th>Sex</th>\n",
       "      <th>Age</th>\n",
       "      <th>SibSp</th>\n",
       "      <th>Parch</th>\n",
       "      <th>Embarked</th>\n",
       "      <th>Pclass</th>\n",
       "      <th>Fare</th>\n",
       "    </tr>\n",
       "  </thead>\n",
       "  <tbody>\n",
       "    <tr>\n",
       "      <th>0</th>\n",
       "      <td>892</td>\n",
       "      <td>0</td>\n",
       "      <td>34.5</td>\n",
       "      <td>0</td>\n",
       "      <td>0</td>\n",
       "      <td>3</td>\n",
       "      <td>3</td>\n",
       "      <td>7.8292</td>\n",
       "    </tr>\n",
       "    <tr>\n",
       "      <th>1</th>\n",
       "      <td>893</td>\n",
       "      <td>1</td>\n",
       "      <td>47.0</td>\n",
       "      <td>1</td>\n",
       "      <td>0</td>\n",
       "      <td>1</td>\n",
       "      <td>3</td>\n",
       "      <td>7.0000</td>\n",
       "    </tr>\n",
       "    <tr>\n",
       "      <th>2</th>\n",
       "      <td>894</td>\n",
       "      <td>0</td>\n",
       "      <td>62.0</td>\n",
       "      <td>0</td>\n",
       "      <td>0</td>\n",
       "      <td>3</td>\n",
       "      <td>2</td>\n",
       "      <td>9.6875</td>\n",
       "    </tr>\n",
       "    <tr>\n",
       "      <th>3</th>\n",
       "      <td>895</td>\n",
       "      <td>0</td>\n",
       "      <td>27.0</td>\n",
       "      <td>0</td>\n",
       "      <td>0</td>\n",
       "      <td>1</td>\n",
       "      <td>3</td>\n",
       "      <td>8.6625</td>\n",
       "    </tr>\n",
       "    <tr>\n",
       "      <th>4</th>\n",
       "      <td>896</td>\n",
       "      <td>1</td>\n",
       "      <td>22.0</td>\n",
       "      <td>1</td>\n",
       "      <td>1</td>\n",
       "      <td>1</td>\n",
       "      <td>3</td>\n",
       "      <td>12.2875</td>\n",
       "    </tr>\n",
       "  </tbody>\n",
       "</table>\n",
       "</div>"
      ],
      "text/plain": [
       "   PassengerId  Sex   Age  SibSp  Parch  Embarked  Pclass     Fare\n",
       "0          892    0  34.5      0      0         3       3   7.8292\n",
       "1          893    1  47.0      1      0         1       3   7.0000\n",
       "2          894    0  62.0      0      0         3       2   9.6875\n",
       "3          895    0  27.0      0      0         1       3   8.6625\n",
       "4          896    1  22.0      1      1         1       3  12.2875"
      ]
     },
     "execution_count": 13,
     "metadata": {},
     "output_type": "execute_result"
    }
   ],
   "source": [
    "test.head()"
   ]
  },
  {
   "cell_type": "markdown",
   "metadata": {},
   "source": [
    "## Imputación Valores - atributos Age & Embarked"
   ]
  },
  {
   "cell_type": "markdown",
   "metadata": {},
   "source": [
    "A continuación procederemos a imputar 177 valores del atributo Age y 2 valores del atributo embarked. Dado que el valor que toma la variable Age puede estar relacionado con las variables SibSp,Parch e incluso con el sexo, la clase y el precio del billete se empleará una imputación por K Nearest Neighbors de manera que se imputa en base a K vecinos más próximos. Asimismo los registros a cuyo valor a imputar en la variable Embarked pueden estar relacionados también con la variable Fare y Pclass.\n",
    "\n",
    "Con tal de aplicar la imputación KNN, emplearemos el método **KNN** de la libreria **fancyimpute**."
   ]
  },
  {
   "cell_type": "code",
   "execution_count": 14,
   "metadata": {},
   "outputs": [
    {
     "name": "stdout",
     "output_type": "stream",
     "text": [
      "Imputing row 1/891 with 0 missing, elapsed time: 0.243\n",
      "Imputing row 101/891 with 0 missing, elapsed time: 0.245\n",
      "Imputing row 201/891 with 0 missing, elapsed time: 0.247\n",
      "Imputing row 301/891 with 1 missing, elapsed time: 0.249\n",
      "Imputing row 401/891 with 0 missing, elapsed time: 0.251\n",
      "Imputing row 501/891 with 0 missing, elapsed time: 0.253\n",
      "Imputing row 601/891 with 0 missing, elapsed time: 0.255\n",
      "Imputing row 701/891 with 0 missing, elapsed time: 0.257\n",
      "Imputing row 801/891 with 0 missing, elapsed time: 0.259\n",
      "Imputing row 1/418 with 0 missing, elapsed time: 0.044\n",
      "Imputing row 101/418 with 0 missing, elapsed time: 0.047\n",
      "Imputing row 201/418 with 1 missing, elapsed time: 0.049\n",
      "Imputing row 301/418 with 0 missing, elapsed time: 0.051\n",
      "Imputing row 401/418 with 0 missing, elapsed time: 0.052\n"
     ]
    }
   ],
   "source": [
    "# Creamos copia de dataframes\n",
    "train_imputed = train.iloc[:,1:].copy(deep=True)\n",
    "test_imputed = test.iloc[:,1:].copy(deep=True)\n",
    "# Aplicamos imputación KNN\n",
    "train_imputed.iloc[:,:] = KNN(k=5).fit_transform(train_imputed)\n",
    "test_imputed.iloc[:,:] = KNN(k=5).fit_transform(test_imputed)"
   ]
  },
  {
   "cell_type": "markdown",
   "metadata": {},
   "source": [
    "Comprobamos la ausencia de valores ausentes:"
   ]
  },
  {
   "cell_type": "code",
   "execution_count": 15,
   "metadata": {},
   "outputs": [
    {
     "name": "stdout",
     "output_type": "stream",
     "text": [
      "\u001b[1mValores ausentes Set Entrenamiento\u001b[0m:\n",
      "Sex         0\n",
      "Age         0\n",
      "SibSp       0\n",
      "Parch       0\n",
      "Embarked    0\n",
      "Pclass      0\n",
      "Fare        0\n",
      "Survived    0\n",
      "dtype: int64\n",
      "\n",
      "\u001b[1mValores ausentes Set Test\u001b[0m:\n",
      "Sex         0\n",
      "Age         0\n",
      "SibSp       0\n",
      "Parch       0\n",
      "Embarked    0\n",
      "Pclass      0\n",
      "Fare        0\n",
      "dtype: int64\n"
     ]
    }
   ],
   "source": [
    "print(f\"{b}Valores ausentes Set Entrenamiento{n}:\")\n",
    "print(train_imputed.isna().sum())\n",
    "print(f\"\\n{b}Valores ausentes Set Test{n}:\")\n",
    "print(test_imputed.isna().sum())"
   ]
  },
  {
   "cell_type": "markdown",
   "metadata": {},
   "source": [
    "La imputación KNN genera numeros reales(float) a la hora de imputar en atributos que son del tipo Entero tal y como puede observarse a continuación:"
   ]
  },
  {
   "cell_type": "code",
   "execution_count": 16,
   "metadata": {},
   "outputs": [
    {
     "name": "stdout",
     "output_type": "stream",
     "text": [
      "\u001b[1mValores Embarked\u001b[0m: [1.         2.         3.         1.78054226 1.91085936]\n",
      "\u001b[1mValores Age\u001b[0m: \n",
      "[22.         38.         26.         35.         47.80000065 54.\n",
      "  2.         27.         14.          4.        ]\n"
     ]
    }
   ],
   "source": [
    "valEmb=train_imputed['Embarked'].unique()\n",
    "valAge=train_imputed['Age'].unique()[:10]\n",
    "print(f'{b}Valores Embarked{n}: {valEmb}')\n",
    "print(f'{b}Valores Age{n}: \\n{valAge}')"
   ]
  },
  {
   "cell_type": "markdown",
   "metadata": {},
   "source": [
    "Con tal de mapear los valores numéricos de Embarked a los valores categóricos y de disponer de valores de Age enteros, redondearemos los valores imputados a estas dos variables a 0 decimales, disponiendo así de variables numéricas enteras."
   ]
  },
  {
   "cell_type": "code",
   "execution_count": 17,
   "metadata": {},
   "outputs": [],
   "source": [
    "train_imputed['Embarked']=round(train_imputed['Embarked'],0)\n",
    "test_imputed['Embarked']=round(test_imputed['Embarked'],0)\n",
    "train_imputed['Age']=round(train_imputed['Age'],0)\n",
    "test_imputed['Age']=round(test_imputed['Age'],0)"
   ]
  },
  {
   "cell_type": "markdown",
   "metadata": {},
   "source": [
    "Volvemos a introducir columna **PassengerId** en ambos Datasets:"
   ]
  },
  {
   "cell_type": "code",
   "execution_count": 18,
   "metadata": {},
   "outputs": [],
   "source": [
    "train=pd.concat([train['PassengerId'],train_imputed],axis=1)\n",
    "test=pd.concat([test['PassengerId'],test_imputed],axis=1)"
   ]
  },
  {
   "cell_type": "markdown",
   "metadata": {},
   "source": [
    "A continuación se procede a transformar las variables del tipo float a integer con tal de que los tipos de datos se asemejen a los del dataframe original:"
   ]
  },
  {
   "cell_type": "code",
   "execution_count": 19,
   "metadata": {},
   "outputs": [],
   "source": [
    "train=train.astype({'PassengerId':'object',\n",
    "                    'Sex':'object',\n",
    "                    'Age':'int64',\n",
    "                    'SibSp':'int64',\n",
    "                    'Embarked':'object',\n",
    "                    'Parch':'int64',\n",
    "                    'Pclass':'object',\n",
    "                    'Survived':'object'})\n",
    "test=test.astype({'PassengerId':'object',\n",
    "                    'Sex':'int64',\n",
    "                    'Age':'int64',\n",
    "                    'SibSp':'int64',\n",
    "                    'Embarked':'int64',\n",
    "                    'Parch':'int64',\n",
    "                    'Pclass':'int64'})"
   ]
  },
  {
   "cell_type": "markdown",
   "metadata": {},
   "source": [
    "Inspeccionamos dataframes resultantes:"
   ]
  },
  {
   "cell_type": "code",
   "execution_count": 20,
   "metadata": {},
   "outputs": [
    {
     "data": {
      "text/html": [
       "<div>\n",
       "<style scoped>\n",
       "    .dataframe tbody tr th:only-of-type {\n",
       "        vertical-align: middle;\n",
       "    }\n",
       "\n",
       "    .dataframe tbody tr th {\n",
       "        vertical-align: top;\n",
       "    }\n",
       "\n",
       "    .dataframe thead th {\n",
       "        text-align: right;\n",
       "    }\n",
       "</style>\n",
       "<table border=\"1\" class=\"dataframe\">\n",
       "  <thead>\n",
       "    <tr style=\"text-align: right;\">\n",
       "      <th></th>\n",
       "      <th>PassengerId</th>\n",
       "      <th>Sex</th>\n",
       "      <th>Age</th>\n",
       "      <th>SibSp</th>\n",
       "      <th>Parch</th>\n",
       "      <th>Embarked</th>\n",
       "      <th>Pclass</th>\n",
       "      <th>Fare</th>\n",
       "      <th>Survived</th>\n",
       "    </tr>\n",
       "  </thead>\n",
       "  <tbody>\n",
       "    <tr>\n",
       "      <th>0</th>\n",
       "      <td>1</td>\n",
       "      <td>0</td>\n",
       "      <td>22</td>\n",
       "      <td>1</td>\n",
       "      <td>0</td>\n",
       "      <td>1</td>\n",
       "      <td>3</td>\n",
       "      <td>7.2500</td>\n",
       "      <td>0</td>\n",
       "    </tr>\n",
       "    <tr>\n",
       "      <th>1</th>\n",
       "      <td>2</td>\n",
       "      <td>1</td>\n",
       "      <td>38</td>\n",
       "      <td>1</td>\n",
       "      <td>0</td>\n",
       "      <td>2</td>\n",
       "      <td>1</td>\n",
       "      <td>71.2833</td>\n",
       "      <td>1</td>\n",
       "    </tr>\n",
       "    <tr>\n",
       "      <th>2</th>\n",
       "      <td>3</td>\n",
       "      <td>1</td>\n",
       "      <td>26</td>\n",
       "      <td>0</td>\n",
       "      <td>0</td>\n",
       "      <td>1</td>\n",
       "      <td>3</td>\n",
       "      <td>7.9250</td>\n",
       "      <td>1</td>\n",
       "    </tr>\n",
       "    <tr>\n",
       "      <th>3</th>\n",
       "      <td>4</td>\n",
       "      <td>1</td>\n",
       "      <td>35</td>\n",
       "      <td>1</td>\n",
       "      <td>0</td>\n",
       "      <td>1</td>\n",
       "      <td>1</td>\n",
       "      <td>53.1000</td>\n",
       "      <td>1</td>\n",
       "    </tr>\n",
       "    <tr>\n",
       "      <th>4</th>\n",
       "      <td>5</td>\n",
       "      <td>0</td>\n",
       "      <td>35</td>\n",
       "      <td>0</td>\n",
       "      <td>0</td>\n",
       "      <td>1</td>\n",
       "      <td>3</td>\n",
       "      <td>8.0500</td>\n",
       "      <td>0</td>\n",
       "    </tr>\n",
       "  </tbody>\n",
       "</table>\n",
       "</div>"
      ],
      "text/plain": [
       "  PassengerId Sex  Age  SibSp  Parch Embarked Pclass     Fare Survived\n",
       "0           1   0   22      1      0        1      3   7.2500        0\n",
       "1           2   1   38      1      0        2      1  71.2833        1\n",
       "2           3   1   26      0      0        1      3   7.9250        1\n",
       "3           4   1   35      1      0        1      1  53.1000        1\n",
       "4           5   0   35      0      0        1      3   8.0500        0"
      ]
     },
     "execution_count": 20,
     "metadata": {},
     "output_type": "execute_result"
    }
   ],
   "source": [
    "train.head()"
   ]
  },
  {
   "cell_type": "code",
   "execution_count": 21,
   "metadata": {},
   "outputs": [
    {
     "data": {
      "text/html": [
       "<div>\n",
       "<style scoped>\n",
       "    .dataframe tbody tr th:only-of-type {\n",
       "        vertical-align: middle;\n",
       "    }\n",
       "\n",
       "    .dataframe tbody tr th {\n",
       "        vertical-align: top;\n",
       "    }\n",
       "\n",
       "    .dataframe thead th {\n",
       "        text-align: right;\n",
       "    }\n",
       "</style>\n",
       "<table border=\"1\" class=\"dataframe\">\n",
       "  <thead>\n",
       "    <tr style=\"text-align: right;\">\n",
       "      <th></th>\n",
       "      <th>PassengerId</th>\n",
       "      <th>Sex</th>\n",
       "      <th>Age</th>\n",
       "      <th>SibSp</th>\n",
       "      <th>Parch</th>\n",
       "      <th>Embarked</th>\n",
       "      <th>Pclass</th>\n",
       "      <th>Fare</th>\n",
       "    </tr>\n",
       "  </thead>\n",
       "  <tbody>\n",
       "    <tr>\n",
       "      <th>0</th>\n",
       "      <td>892</td>\n",
       "      <td>0</td>\n",
       "      <td>34</td>\n",
       "      <td>0</td>\n",
       "      <td>0</td>\n",
       "      <td>3</td>\n",
       "      <td>3</td>\n",
       "      <td>7.8292</td>\n",
       "    </tr>\n",
       "    <tr>\n",
       "      <th>1</th>\n",
       "      <td>893</td>\n",
       "      <td>1</td>\n",
       "      <td>47</td>\n",
       "      <td>1</td>\n",
       "      <td>0</td>\n",
       "      <td>1</td>\n",
       "      <td>3</td>\n",
       "      <td>7.0000</td>\n",
       "    </tr>\n",
       "    <tr>\n",
       "      <th>2</th>\n",
       "      <td>894</td>\n",
       "      <td>0</td>\n",
       "      <td>62</td>\n",
       "      <td>0</td>\n",
       "      <td>0</td>\n",
       "      <td>3</td>\n",
       "      <td>2</td>\n",
       "      <td>9.6875</td>\n",
       "    </tr>\n",
       "    <tr>\n",
       "      <th>3</th>\n",
       "      <td>895</td>\n",
       "      <td>0</td>\n",
       "      <td>27</td>\n",
       "      <td>0</td>\n",
       "      <td>0</td>\n",
       "      <td>1</td>\n",
       "      <td>3</td>\n",
       "      <td>8.6625</td>\n",
       "    </tr>\n",
       "    <tr>\n",
       "      <th>4</th>\n",
       "      <td>896</td>\n",
       "      <td>1</td>\n",
       "      <td>22</td>\n",
       "      <td>1</td>\n",
       "      <td>1</td>\n",
       "      <td>1</td>\n",
       "      <td>3</td>\n",
       "      <td>12.2875</td>\n",
       "    </tr>\n",
       "  </tbody>\n",
       "</table>\n",
       "</div>"
      ],
      "text/plain": [
       "  PassengerId  Sex  Age  SibSp  Parch  Embarked  Pclass     Fare\n",
       "0         892    0   34      0      0         3       3   7.8292\n",
       "1         893    1   47      1      0         1       3   7.0000\n",
       "2         894    0   62      0      0         3       2   9.6875\n",
       "3         895    0   27      0      0         1       3   8.6625\n",
       "4         896    1   22      1      1         1       3  12.2875"
      ]
     },
     "execution_count": 21,
     "metadata": {},
     "output_type": "execute_result"
    }
   ],
   "source": [
    "test.head()"
   ]
  },
  {
   "cell_type": "markdown",
   "metadata": {},
   "source": [
    "## Análisis Outliers"
   ]
  },
  {
   "cell_type": "markdown",
   "metadata": {},
   "source": [
    "A continuación procedemos a analizar los valores extremos, mostrando una tabla en la cual se muestran los percentiles 0,25,50,75,85,90,95 y 100 de cada atributo. Al margen de los estadísticos habituales como los valores máximo, mínimo, así como cuartil 1,2 y 3, también se han calculado los percentiles 85,90 y 95 con tal de poder observar con más detalle la evolución de cada atributo en percentiles altos."
   ]
  },
  {
   "cell_type": "code",
   "execution_count": 22,
   "metadata": {},
   "outputs": [
    {
     "data": {
      "text/html": [
       "<div>\n",
       "<style scoped>\n",
       "    .dataframe tbody tr th:only-of-type {\n",
       "        vertical-align: middle;\n",
       "    }\n",
       "\n",
       "    .dataframe tbody tr th {\n",
       "        vertical-align: top;\n",
       "    }\n",
       "\n",
       "    .dataframe thead th {\n",
       "        text-align: right;\n",
       "    }\n",
       "</style>\n",
       "<table border=\"1\" class=\"dataframe\">\n",
       "  <thead>\n",
       "    <tr style=\"text-align: right;\">\n",
       "      <th></th>\n",
       "      <th>Age</th>\n",
       "      <th>SibSp</th>\n",
       "      <th>Parch</th>\n",
       "      <th>Fare</th>\n",
       "    </tr>\n",
       "  </thead>\n",
       "  <tbody>\n",
       "    <tr>\n",
       "      <th>0.00</th>\n",
       "      <td>0.0</td>\n",
       "      <td>0.0</td>\n",
       "      <td>0.0</td>\n",
       "      <td>0.00000</td>\n",
       "    </tr>\n",
       "    <tr>\n",
       "      <th>0.25</th>\n",
       "      <td>21.0</td>\n",
       "      <td>0.0</td>\n",
       "      <td>0.0</td>\n",
       "      <td>7.91040</td>\n",
       "    </tr>\n",
       "    <tr>\n",
       "      <th>0.50</th>\n",
       "      <td>29.0</td>\n",
       "      <td>0.0</td>\n",
       "      <td>0.0</td>\n",
       "      <td>14.45420</td>\n",
       "    </tr>\n",
       "    <tr>\n",
       "      <th>0.75</th>\n",
       "      <td>38.0</td>\n",
       "      <td>1.0</td>\n",
       "      <td>0.0</td>\n",
       "      <td>31.00000</td>\n",
       "    </tr>\n",
       "    <tr>\n",
       "      <th>0.85</th>\n",
       "      <td>45.0</td>\n",
       "      <td>1.0</td>\n",
       "      <td>1.0</td>\n",
       "      <td>56.49580</td>\n",
       "    </tr>\n",
       "    <tr>\n",
       "      <th>0.90</th>\n",
       "      <td>48.0</td>\n",
       "      <td>1.0</td>\n",
       "      <td>2.0</td>\n",
       "      <td>77.95830</td>\n",
       "    </tr>\n",
       "    <tr>\n",
       "      <th>0.95</th>\n",
       "      <td>55.5</td>\n",
       "      <td>3.0</td>\n",
       "      <td>2.0</td>\n",
       "      <td>112.07915</td>\n",
       "    </tr>\n",
       "    <tr>\n",
       "      <th>1.00</th>\n",
       "      <td>80.0</td>\n",
       "      <td>8.0</td>\n",
       "      <td>6.0</td>\n",
       "      <td>512.32920</td>\n",
       "    </tr>\n",
       "  </tbody>\n",
       "</table>\n",
       "</div>"
      ],
      "text/plain": [
       "       Age  SibSp  Parch       Fare\n",
       "0.00   0.0    0.0    0.0    0.00000\n",
       "0.25  21.0    0.0    0.0    7.91040\n",
       "0.50  29.0    0.0    0.0   14.45420\n",
       "0.75  38.0    1.0    0.0   31.00000\n",
       "0.85  45.0    1.0    1.0   56.49580\n",
       "0.90  48.0    1.0    2.0   77.95830\n",
       "0.95  55.5    3.0    2.0  112.07915\n",
       "1.00  80.0    8.0    6.0  512.32920"
      ]
     },
     "execution_count": 22,
     "metadata": {},
     "output_type": "execute_result"
    },
    {
     "data": {
      "image/png": "[encoded data removed]",
      "text/plain": [
       "<Figure size 576x432 with 4 Axes>"
      ]
     },
     "metadata": {},
     "output_type": "display_data"
    }
   ],
   "source": [
    "fig,ax = plt.subplots(2,2,figsize=(8,6))\n",
    "sns.distplot(train['Age'], kde=True, rug=False,ax=ax[0,0])\n",
    "sns.distplot(train['SibSp'],bins=9, kde=False, rug=False,ax=ax[0,1])\n",
    "sns.distplot(train['Parch'],bins=7, kde=False, rug=False,ax=ax[1,0])\n",
    "sns.distplot(train['Fare'], bins=25,kde=False, rug=False,ax=ax[1,1])\n",
    "plt.tight_layout()\n",
    "train.quantile([.0,.25,.50,.75,.85,.9,.95,1],axis=0)"
   ]
  },
  {
   "cell_type": "markdown",
   "metadata": {},
   "source": [
    "A partir de la tabla obtenemos los siguientes insights:\n",
    " - **Age**: un 5% de los pasajeros superan los 54 años de edad, con una edad máxima de 80 años. Esta edad, sin embargo, entra dentro de la normalidad, dado que en las fechas del hundimiento del Titanic era posible alcanzar tal edad.\n",
    " - **SibSp**: al menos un 50% de los pasajeros no dispone de hermanos/as o pareja en el viaje, mientras que al menos un 90% de los pasajeros solo dispone de uno o ningún familiar de este tipo. El máximo número de familiares de este tipo es de 8, algo que puede entrar dentro de la normalidad, dado que es posible realizar un viaje intercontinental en barco en familia, siendo está muy numerosa. En general se observa como la mayoría de los pasajeros viajan con uno o ningún hermano/a o pareja, mientras que los valores máx extremos corresponden con realidad potencialmente posibles, especialmente teniendo en cuenta las tasas demográficas británicas y francesas de 1912.\n",
    " - **ParCh**: al menos el 75% de los pasajeros viaja sin padres ni hijos, mientras que una cantidad menor pero significativa viaja con 1 o 2 parientes de este tipo, mientras que el un número mayor de parientes son residuales, aunque al igual que con la variable SibSp no se corresponde con realidades improcedentes.\n",
    " - **Fare**: se observa la concentración de el 95% de los valores en valores menores o iguales a 112,079 unidades momnetarias. Así, existe un 5% de instancias que disponen de valores comprendidos aproximadamente entre 112,0789 y 512,32 unidades monetarios, lo cual supone una dispersión muy elevada. Asimismo, existen pasajeros que de acuerdo con los datos están viajando gratis. Tanto la existencia de valores muy extremos como los valores nulos, pueden deberse a razones como puede ser la clase en la que viajan los pasajeros o que los pasajeros que no paguen billete formen parte de la tripulación. En cualquier caso a continuación se procede a realizar un análisis más pormenorizado de este atributo."
   ]
  },
  {
   "cell_type": "code",
   "execution_count": 23,
   "metadata": {},
   "outputs": [
    {
     "name": "stdout",
     "output_type": "stream",
     "text": [
      "\u001b[1mPasajeros cuyo precio de billete es 0:\u001b[0m 15\n",
      "Distribución por Clase:\n",
      "2.0    6\n",
      "1.0    5\n",
      "3.0    4\n",
      "Name: Pclass, dtype: int64\n",
      "\u001b[1mNúmero de pasajeros cuyo precio de billete es mayor a 112,08:\u001b[0m 45\n",
      "Distribución por Clase:\n",
      "1.0    45\n",
      "Name: Pclass, dtype: int64\n"
     ]
    }
   ],
   "source": [
    "fare0=train[train['Fare']==0.0]\n",
    "numfare0=fare0.count()[0]\n",
    "numFare0Clas=fare0['Pclass'].value_counts()\n",
    "\n",
    "fareCara=train[train['Fare']>112.07915]\n",
    "numfareCara=fareCara.count()[0]\n",
    "numFareCaraClas=fareCara['Pclass'].value_counts()\n",
    "\n",
    "print(f'{b}Pasajeros cuyo precio de billete es 0:{n} {numfare0}')\n",
    "print(f'Distribución por Clase:\\n{numFare0Clas}')\n",
    "print(f'{b}Número de pasajeros cuyo precio de billete es mayor a 112,08:{n} {numfareCara}')\n",
    "print(f'Distribución por Clase:\\n{numFareCaraClas}')\n"
   ]
  },
  {
   "cell_type": "markdown",
   "metadata": {},
   "source": [
    "Tras observar la presecia de 15 instancias con un valor de Fare de 0 y 45 instancias con valores de Fare superiores a 112,08 unidades monetarias, se observa que la clase no tiene nada que ver con no pagar billete, mientras que los billetes claros son exclusivamente de primera clase, lo cual implica que estos valores entran dentro de los esperable y la normalidad de mayores precios para primera clase. Debido a esto se ha optado por no realizar tratamiento alguno en cuanto a valores extremos."
   ]
  },
  {
   "cell_type": "markdown",
   "metadata": {},
   "source": [
    "# Análisis de Datos"
   ]
  },
  {
   "cell_type": "markdown",
   "metadata": {},
   "source": [
    "En el siguiente apartado se procederá a realizar un análisis exploratorio de datos que complemente los descubierto en el análisis de Outliers. Para ello se procederá por generar los estadísticos descriptivos de cada variable, así como representaciones gráficas de cada variable discriminada en función de la variable **Survived**, a través de la cual se pretende generar ciertos conocimiento de cara a realizar Feature Engineering antes de aplicar el modelo predicitivo. Todo este análisis se realizará sobre el **Set de Entrenamiento**. Una vez realizado estos pasos se procederá a la comprobación de normalidad y homogeneidad de la varianza, previo paso a la aplicación de los análisis.\n",
    "\n",
    "Más adelante se procederá a realizar **pruebas de significación estadística**, tanto para variables numéricas como categóricas, con talde conocer si existen diferencias estadísticas para cada atributo entre aquellos que sobrevivieron y los que murieron en el hundimiento del Titanic. En segundo lugar se procederá a realizar un **ánalisis de correlaciones** generando variables categóricas dummy con tal de analizr todas las variables sin importar el tipo de dato, para por último crear un **modelo predictivo** empleando un modelo Random Forest."
   ]
  },
  {
   "cell_type": "code",
   "execution_count": 24,
   "metadata": {},
   "outputs": [
    {
     "data": {
      "text/html": [
       "<div>\n",
       "<style scoped>\n",
       "    .dataframe tbody tr th:only-of-type {\n",
       "        vertical-align: middle;\n",
       "    }\n",
       "\n",
       "    .dataframe tbody tr th {\n",
       "        vertical-align: top;\n",
       "    }\n",
       "\n",
       "    .dataframe thead th {\n",
       "        text-align: right;\n",
       "    }\n",
       "</style>\n",
       "<table border=\"1\" class=\"dataframe\">\n",
       "  <thead>\n",
       "    <tr style=\"text-align: right;\">\n",
       "      <th></th>\n",
       "      <th>PassengerId</th>\n",
       "      <th>Sex</th>\n",
       "      <th>Age</th>\n",
       "      <th>SibSp</th>\n",
       "      <th>Parch</th>\n",
       "      <th>Embarked</th>\n",
       "      <th>Pclass</th>\n",
       "      <th>Fare</th>\n",
       "      <th>Survived</th>\n",
       "    </tr>\n",
       "  </thead>\n",
       "  <tbody>\n",
       "    <tr>\n",
       "      <th>count</th>\n",
       "      <td>891.0</td>\n",
       "      <td>891.0</td>\n",
       "      <td>891.000000</td>\n",
       "      <td>891.000000</td>\n",
       "      <td>891.000000</td>\n",
       "      <td>891.0</td>\n",
       "      <td>891.0</td>\n",
       "      <td>891.000000</td>\n",
       "      <td>891.0</td>\n",
       "    </tr>\n",
       "    <tr>\n",
       "      <th>unique</th>\n",
       "      <td>891.0</td>\n",
       "      <td>2.0</td>\n",
       "      <td>NaN</td>\n",
       "      <td>NaN</td>\n",
       "      <td>NaN</td>\n",
       "      <td>3.0</td>\n",
       "      <td>3.0</td>\n",
       "      <td>NaN</td>\n",
       "      <td>2.0</td>\n",
       "    </tr>\n",
       "    <tr>\n",
       "      <th>top</th>\n",
       "      <td>891.0</td>\n",
       "      <td>0.0</td>\n",
       "      <td>NaN</td>\n",
       "      <td>NaN</td>\n",
       "      <td>NaN</td>\n",
       "      <td>1.0</td>\n",
       "      <td>3.0</td>\n",
       "      <td>NaN</td>\n",
       "      <td>0.0</td>\n",
       "    </tr>\n",
       "    <tr>\n",
       "      <th>freq</th>\n",
       "      <td>1.0</td>\n",
       "      <td>577.0</td>\n",
       "      <td>NaN</td>\n",
       "      <td>NaN</td>\n",
       "      <td>NaN</td>\n",
       "      <td>644.0</td>\n",
       "      <td>491.0</td>\n",
       "      <td>NaN</td>\n",
       "      <td>549.0</td>\n",
       "    </tr>\n",
       "    <tr>\n",
       "      <th>mean</th>\n",
       "      <td>NaN</td>\n",
       "      <td>NaN</td>\n",
       "      <td>30.026936</td>\n",
       "      <td>0.523008</td>\n",
       "      <td>0.381594</td>\n",
       "      <td>NaN</td>\n",
       "      <td>NaN</td>\n",
       "      <td>32.204208</td>\n",
       "      <td>NaN</td>\n",
       "    </tr>\n",
       "    <tr>\n",
       "      <th>std</th>\n",
       "      <td>NaN</td>\n",
       "      <td>NaN</td>\n",
       "      <td>13.824394</td>\n",
       "      <td>1.102743</td>\n",
       "      <td>0.806057</td>\n",
       "      <td>NaN</td>\n",
       "      <td>NaN</td>\n",
       "      <td>49.693429</td>\n",
       "      <td>NaN</td>\n",
       "    </tr>\n",
       "    <tr>\n",
       "      <th>min</th>\n",
       "      <td>NaN</td>\n",
       "      <td>NaN</td>\n",
       "      <td>0.000000</td>\n",
       "      <td>0.000000</td>\n",
       "      <td>0.000000</td>\n",
       "      <td>NaN</td>\n",
       "      <td>NaN</td>\n",
       "      <td>0.000000</td>\n",
       "      <td>NaN</td>\n",
       "    </tr>\n",
       "    <tr>\n",
       "      <th>25%</th>\n",
       "      <td>NaN</td>\n",
       "      <td>NaN</td>\n",
       "      <td>21.000000</td>\n",
       "      <td>0.000000</td>\n",
       "      <td>0.000000</td>\n",
       "      <td>NaN</td>\n",
       "      <td>NaN</td>\n",
       "      <td>7.910400</td>\n",
       "      <td>NaN</td>\n",
       "    </tr>\n",
       "    <tr>\n",
       "      <th>50%</th>\n",
       "      <td>NaN</td>\n",
       "      <td>NaN</td>\n",
       "      <td>29.000000</td>\n",
       "      <td>0.000000</td>\n",
       "      <td>0.000000</td>\n",
       "      <td>NaN</td>\n",
       "      <td>NaN</td>\n",
       "      <td>14.454200</td>\n",
       "      <td>NaN</td>\n",
       "    </tr>\n",
       "    <tr>\n",
       "      <th>75%</th>\n",
       "      <td>NaN</td>\n",
       "      <td>NaN</td>\n",
       "      <td>38.000000</td>\n",
       "      <td>1.000000</td>\n",
       "      <td>0.000000</td>\n",
       "      <td>NaN</td>\n",
       "      <td>NaN</td>\n",
       "      <td>31.000000</td>\n",
       "      <td>NaN</td>\n",
       "    </tr>\n",
       "    <tr>\n",
       "      <th>max</th>\n",
       "      <td>NaN</td>\n",
       "      <td>NaN</td>\n",
       "      <td>80.000000</td>\n",
       "      <td>8.000000</td>\n",
       "      <td>6.000000</td>\n",
       "      <td>NaN</td>\n",
       "      <td>NaN</td>\n",
       "      <td>512.329200</td>\n",
       "      <td>NaN</td>\n",
       "    </tr>\n",
       "  </tbody>\n",
       "</table>\n",
       "</div>"
      ],
      "text/plain": [
       "        PassengerId    Sex         Age       SibSp       Parch  Embarked  \\\n",
       "count         891.0  891.0  891.000000  891.000000  891.000000     891.0   \n",
       "unique        891.0    2.0         NaN         NaN         NaN       3.0   \n",
       "top           891.0    0.0         NaN         NaN         NaN       1.0   \n",
       "freq            1.0  577.0         NaN         NaN         NaN     644.0   \n",
       "mean            NaN    NaN   30.026936    0.523008    0.381594       NaN   \n",
       "std             NaN    NaN   13.824394    1.102743    0.806057       NaN   \n",
       "min             NaN    NaN    0.000000    0.000000    0.000000       NaN   \n",
       "25%             NaN    NaN   21.000000    0.000000    0.000000       NaN   \n",
       "50%             NaN    NaN   29.000000    0.000000    0.000000       NaN   \n",
       "75%             NaN    NaN   38.000000    1.000000    0.000000       NaN   \n",
       "max             NaN    NaN   80.000000    8.000000    6.000000       NaN   \n",
       "\n",
       "        Pclass        Fare  Survived  \n",
       "count    891.0  891.000000     891.0  \n",
       "unique     3.0         NaN       2.0  \n",
       "top        3.0         NaN       0.0  \n",
       "freq     491.0         NaN     549.0  \n",
       "mean       NaN   32.204208       NaN  \n",
       "std        NaN   49.693429       NaN  \n",
       "min        NaN    0.000000       NaN  \n",
       "25%        NaN    7.910400       NaN  \n",
       "50%        NaN   14.454200       NaN  \n",
       "75%        NaN   31.000000       NaN  \n",
       "max        NaN  512.329200       NaN  "
      ]
     },
     "execution_count": 24,
     "metadata": {},
     "output_type": "execute_result"
    }
   ],
   "source": [
    "train.describe(include=\"all\")"
   ]
  },
  {
   "cell_type": "markdown",
   "metadata": {},
   "source": [
    "## Comprobación de la Normalidad y la Homocedasticidad"
   ]
  },
  {
   "cell_type": "markdown",
   "metadata": {},
   "source": [
    "De cara a proceder a la **comprobación de la normalidad** de los atributos numéricos se aplicará la prueba **Shapiro-Wilk**. Esta prueba compara la distribución de los datos con una distribución normal, asumiendo como hipótesis nula que los datos están distribuidos de manera normal, lo que implica que un p-value inferior a 0.05 lleva a rechazar esta hipótesis nula y por tanto a concluir que los datos no cuenta con una distribución normal. "
   ]
  },
  {
   "cell_type": "code",
   "execution_count": 25,
   "metadata": {},
   "outputs": [
    {
     "data": {
      "text/html": [
       "<div>\n",
       "<style scoped>\n",
       "    .dataframe tbody tr th:only-of-type {\n",
       "        vertical-align: middle;\n",
       "    }\n",
       "\n",
       "    .dataframe tbody tr th {\n",
       "        vertical-align: top;\n",
       "    }\n",
       "\n",
       "    .dataframe thead th {\n",
       "        text-align: right;\n",
       "    }\n",
       "</style>\n",
       "<table border=\"1\" class=\"dataframe\">\n",
       "  <thead>\n",
       "    <tr style=\"text-align: right;\">\n",
       "      <th></th>\n",
       "      <th>Variable</th>\n",
       "      <th>Estadístico</th>\n",
       "      <th>p-value</th>\n",
       "    </tr>\n",
       "  </thead>\n",
       "  <tbody>\n",
       "    <tr>\n",
       "      <th>0</th>\n",
       "      <td>Age</td>\n",
       "      <td>0.980395</td>\n",
       "      <td>1.431199e-09</td>\n",
       "    </tr>\n",
       "    <tr>\n",
       "      <th>1</th>\n",
       "      <td>SibSp</td>\n",
       "      <td>0.512966</td>\n",
       "      <td>5.745324e-44</td>\n",
       "    </tr>\n",
       "    <tr>\n",
       "      <th>2</th>\n",
       "      <td>Parch</td>\n",
       "      <td>0.532815</td>\n",
       "      <td>2.382207e-43</td>\n",
       "    </tr>\n",
       "    <tr>\n",
       "      <th>3</th>\n",
       "      <td>Fare</td>\n",
       "      <td>0.521891</td>\n",
       "      <td>1.079000e-43</td>\n",
       "    </tr>\n",
       "  </tbody>\n",
       "</table>\n",
       "</div>"
      ],
      "text/plain": [
       "  Variable  Estadístico       p-value\n",
       "0      Age     0.980395  1.431199e-09\n",
       "1    SibSp     0.512966  5.745324e-44\n",
       "2    Parch     0.532815  2.382207e-43\n",
       "3     Fare     0.521891  1.079000e-43"
      ]
     },
     "execution_count": 25,
     "metadata": {},
     "output_type": "execute_result"
    }
   ],
   "source": [
    "varNum=[2,3,4,7]\n",
    "shapiro=[]\n",
    "for i in varNum:\n",
    "    aux=stats.shapiro(train.iloc[:,i])\n",
    "    shapiro.append([train.columns[i],aux[0],aux[1]])\n",
    "pd.DataFrame(shapiro,columns=['Variable','Estadístico','p-value'])"
   ]
  },
  {
   "cell_type": "markdown",
   "metadata": {},
   "source": [
    "A partir de los p-value obtenidos, todos ellos inferiores a 0.05, se concluye que los atributos **Age,SibSp,Parch,Fare** no cuenta con una distribución normal.\n",
    "\n",
    "En cuanto a la **homogeneidad de la varianza** o **homocedasticidad**, dado que los atributos numéricos no cuentan con una distribución normal se procederá a aplicar el test **Fligner-Killeen**, prueba no paramétrica que asume como hipótesis nula la igualdad de varianzas entre los datos de diferentes grupos. Así, se procederá a comprobar la homocedasticidad de los atributos numéricos respecto a las diferentes categorías de la variable **Survived**."
   ]
  },
  {
   "cell_type": "code",
   "execution_count": 26,
   "metadata": {},
   "outputs": [
    {
     "data": {
      "text/html": [
       "<div>\n",
       "<style scoped>\n",
       "    .dataframe tbody tr th:only-of-type {\n",
       "        vertical-align: middle;\n",
       "    }\n",
       "\n",
       "    .dataframe tbody tr th {\n",
       "        vertical-align: top;\n",
       "    }\n",
       "\n",
       "    .dataframe thead th {\n",
       "        text-align: right;\n",
       "    }\n",
       "</style>\n",
       "<table border=\"1\" class=\"dataframe\">\n",
       "  <thead>\n",
       "    <tr style=\"text-align: right;\">\n",
       "      <th></th>\n",
       "      <th>Variable</th>\n",
       "      <th>Estadístico</th>\n",
       "      <th>p-value</th>\n",
       "    </tr>\n",
       "  </thead>\n",
       "  <tbody>\n",
       "    <tr>\n",
       "      <th>0</th>\n",
       "      <td>Age</td>\n",
       "      <td>2.600648</td>\n",
       "      <td>1.068200e-01</td>\n",
       "    </tr>\n",
       "    <tr>\n",
       "      <th>1</th>\n",
       "      <td>SibSp</td>\n",
       "      <td>1.251390</td>\n",
       "      <td>2.632873e-01</td>\n",
       "    </tr>\n",
       "    <tr>\n",
       "      <th>2</th>\n",
       "      <td>Parch</td>\n",
       "      <td>11.253329</td>\n",
       "      <td>7.948034e-04</td>\n",
       "    </tr>\n",
       "    <tr>\n",
       "      <th>3</th>\n",
       "      <td>Fare</td>\n",
       "      <td>96.252740</td>\n",
       "      <td>1.011152e-22</td>\n",
       "    </tr>\n",
       "  </tbody>\n",
       "</table>\n",
       "</div>"
      ],
      "text/plain": [
       "  Variable  Estadístico       p-value\n",
       "0      Age     2.600648  1.068200e-01\n",
       "1    SibSp     1.251390  2.632873e-01\n",
       "2    Parch    11.253329  7.948034e-04\n",
       "3     Fare    96.252740  1.011152e-22"
      ]
     },
     "execution_count": 26,
     "metadata": {},
     "output_type": "execute_result"
    }
   ],
   "source": [
    "varNum=[2,3,4,7]\n",
    "fligner=[]\n",
    "for i in varNum:\n",
    "    varSurv=train[train['Survived']==1][train.columns[i]]\n",
    "    varDied=train[train['Survived']==0][train.columns[i]]\n",
    "    aux=stats.fligner(varSurv,varDied)\n",
    "    fligner.append([train.columns[i],aux[0],aux[1]])\n",
    "pd.DataFrame(fligner,columns=['Variable','Estadístico','p-value'])"
   ]
  },
  {
   "cell_type": "markdown",
   "metadata": {},
   "source": [
    "Los valores de p-value obtenidos de aplicar el test de Fligner-Killeen a los atributos **Age,SibSp,Parch,Fare**, muestran que las variable **Age** y SibSp disponen igualdad de varianzas entre las personas que sobrevivieron y las que no, mientras que **Parch** y **Fare** no.\n",
    "\n",
    "**A modo de sintesis ninguna variable numérica se distribuye de manera normal, mientras que solo Parch y Fare muestran homocedasticidad.**"
   ]
  },
  {
   "cell_type": "markdown",
   "metadata": {},
   "source": [
    "## Aplicación Pruebas Estadísticas"
   ]
  },
  {
   "cell_type": "markdown",
   "metadata": {},
   "source": [
    "### Pruebas de Significación respecto a Distribuciones de Survived"
   ]
  },
  {
   "cell_type": "markdown",
   "metadata": {},
   "source": [
    "A continuación se pretende aplicar diferentes pruebas que permitan conocer si existen diferencias significativas para diferentes atributos en función de aquellos que sobrevivieron y aquellos que no al hundimiento del Titanic. Así procederemos a aplicar la prueba de **Wilcoxon** a los atributos **Age,SibSp,Parch,Fare** respecto a **Survived**, dado que comparamos los valores de atributos numéricos respecto al valor de la variable **Survived**, los cuales provienen de la misma muestra y por tanto son dependientes. \n",
    "\n",
    "Por otro lado, aplicaremos la **prueba de independencia Chi-Cuadrado** a las variables categóricas **Sex,Embarked,Pclass**.\n",
    "\n",
    "La prueba **Wilcoxon** se trata de una prueba no parámetrica aplicada a muestras dependendientes, que prueba la hipótesis nula de que dos muestras pareadas relacionadas provienen de la misma distribución, lo cual permite dictaminar si existen diferencias estadísticamente significativas entre los diferentes grupos para las variables arriba mencionadas."
   ]
  },
  {
   "cell_type": "code",
   "execution_count": 27,
   "metadata": {},
   "outputs": [
    {
     "data": {
      "text/html": [
       "<div>\n",
       "<style scoped>\n",
       "    .dataframe tbody tr th:only-of-type {\n",
       "        vertical-align: middle;\n",
       "    }\n",
       "\n",
       "    .dataframe tbody tr th {\n",
       "        vertical-align: top;\n",
       "    }\n",
       "\n",
       "    .dataframe thead th {\n",
       "        text-align: right;\n",
       "    }\n",
       "</style>\n",
       "<table border=\"1\" class=\"dataframe\">\n",
       "  <thead>\n",
       "    <tr style=\"text-align: right;\">\n",
       "      <th></th>\n",
       "      <th>Variable</th>\n",
       "      <th>Estadístico</th>\n",
       "      <th>p-value</th>\n",
       "      <th>significativa</th>\n",
       "    </tr>\n",
       "  </thead>\n",
       "  <tbody>\n",
       "    <tr>\n",
       "      <th>0</th>\n",
       "      <td>Age</td>\n",
       "      <td>3.5</td>\n",
       "      <td>1.179029e-145</td>\n",
       "      <td>Si</td>\n",
       "    </tr>\n",
       "    <tr>\n",
       "      <th>1</th>\n",
       "      <td>SibSp</td>\n",
       "      <td>33705.0</td>\n",
       "      <td>1.771060e-01</td>\n",
       "      <td>No</td>\n",
       "    </tr>\n",
       "    <tr>\n",
       "      <th>2</th>\n",
       "      <td>Parch</td>\n",
       "      <td>34675.5</td>\n",
       "      <td>3.867671e-01</td>\n",
       "      <td>No</td>\n",
       "    </tr>\n",
       "    <tr>\n",
       "      <th>3</th>\n",
       "      <td>Fare</td>\n",
       "      <td>1.0</td>\n",
       "      <td>3.753773e-145</td>\n",
       "      <td>Si</td>\n",
       "    </tr>\n",
       "  </tbody>\n",
       "</table>\n",
       "</div>"
      ],
      "text/plain": [
       "  Variable  Estadístico        p-value significativa\n",
       "0      Age          3.5  1.179029e-145            Si\n",
       "1    SibSp      33705.0   1.771060e-01            No\n",
       "2    Parch      34675.5   3.867671e-01            No\n",
       "3     Fare          1.0  3.753773e-145            Si"
      ]
     },
     "execution_count": 27,
     "metadata": {},
     "output_type": "execute_result"
    }
   ],
   "source": [
    "varNum=[2,3,4,7]\n",
    "wilcoxon=[]\n",
    "for i in varNum:\n",
    "    aux=stats.wilcoxon(train[train.columns[i]],train['Survived'])\n",
    "    wilcoxon.append([train.columns[i],aux[0],aux[1]])\n",
    "dfaux=pd.DataFrame(wilcoxon,columns=['Variable','Estadístico','p-value'])\n",
    "dfaux['significativa']=np.where(dfaux['p-value']<0.05,\"Si\",\"No\")\n",
    "dfaux"
   ]
  },
  {
   "cell_type": "markdown",
   "metadata": {},
   "source": [
    "**La prueba Chi-Cuadrado de independencia** se emplea para determinar si existen diferencias estadísticamente significativas entre dos variables categóricas, al analizar si estas variables están realacionadas en una población. Así, el test contrasta la hipótesis nula según la cual dos variables categóricas son independientes en una población, lo que implica que las frecuencias de una variable son similares o identicas en función de los valores de la otra variable."
   ]
  },
  {
   "cell_type": "code",
   "execution_count": 28,
   "metadata": {},
   "outputs": [
    {
     "data": {
      "text/html": [
       "<div>\n",
       "<style scoped>\n",
       "    .dataframe tbody tr th:only-of-type {\n",
       "        vertical-align: middle;\n",
       "    }\n",
       "\n",
       "    .dataframe tbody tr th {\n",
       "        vertical-align: top;\n",
       "    }\n",
       "\n",
       "    .dataframe thead th {\n",
       "        text-align: right;\n",
       "    }\n",
       "</style>\n",
       "<table border=\"1\" class=\"dataframe\">\n",
       "  <thead>\n",
       "    <tr style=\"text-align: right;\">\n",
       "      <th></th>\n",
       "      <th>Variable</th>\n",
       "      <th>Estadístico</th>\n",
       "      <th>p-value</th>\n",
       "      <th>significativa</th>\n",
       "    </tr>\n",
       "  </thead>\n",
       "  <tbody>\n",
       "    <tr>\n",
       "      <th>0</th>\n",
       "      <td>Sex</td>\n",
       "      <td>263.050574</td>\n",
       "      <td>3.711748e-59</td>\n",
       "      <td>Si</td>\n",
       "    </tr>\n",
       "    <tr>\n",
       "      <th>1</th>\n",
       "      <td>Embarked</td>\n",
       "      <td>28.005089</td>\n",
       "      <td>8.294157e-07</td>\n",
       "      <td>Si</td>\n",
       "    </tr>\n",
       "    <tr>\n",
       "      <th>2</th>\n",
       "      <td>Pclass</td>\n",
       "      <td>102.888989</td>\n",
       "      <td>4.549252e-23</td>\n",
       "      <td>Si</td>\n",
       "    </tr>\n",
       "  </tbody>\n",
       "</table>\n",
       "</div>"
      ],
      "text/plain": [
       "   Variable  Estadístico       p-value significativa\n",
       "0       Sex   263.050574  3.711748e-59            Si\n",
       "1  Embarked    28.005089  8.294157e-07            Si\n",
       "2    Pclass   102.888989  4.549252e-23            Si"
      ]
     },
     "execution_count": 28,
     "metadata": {},
     "output_type": "execute_result"
    }
   ],
   "source": [
    "varCat=[1,5,6]\n",
    "chi_sq=[]\n",
    "for i in varCat:\n",
    "    contingency_table = pd.crosstab(train[train.columns[i]], train['Survived'],  margins = False)\n",
    "    chi2, p, dof, ex = chi2_contingency(contingency_table, correction=False)\n",
    "    chi_sq.append([train.columns[i],chi2,p])\n",
    "dfaux=pd.DataFrame(chi_sq,columns=['Variable','Estadístico','p-value']) \n",
    "dfaux['significativa']=np.where(dfaux['p-value']<0.05,\"Si\",\"No\")\n",
    "dfaux"
   ]
  },
  {
   "cell_type": "markdown",
   "metadata": {},
   "source": [
    "A partir de la aplicación de las pruebas **Wilcoxon** y el **test de independencia Chi-Cuadrado** se obtiene que existen diferencias estadísticamente significativas para las variables **Age,Fare,Sex,Embarked y Pclass** entre las personas que sobrevivieron y las que no. Por otro lado, las variables **SibSp** y **Parch** parecen no disponer de diferencias estadísticamente entre los valores de **Survived**, dado que los p-values de la prueba Wilcoxon son de 0,177 y 0,386 respectivamente, por lo que no se puede rechazar la Hipótesis Nula que establece que las muestras pareadas relacionadas provienen de la misma distribución."
   ]
  },
  {
   "cell_type": "markdown",
   "metadata": {},
   "source": [
    "### Correlaciones"
   ]
  },
  {
   "cell_type": "code",
   "execution_count": 29,
   "metadata": {
    "scrolled": true
   },
   "outputs": [
    {
     "data": {
      "text/html": [
       "<div>\n",
       "<style scoped>\n",
       "    .dataframe tbody tr th:only-of-type {\n",
       "        vertical-align: middle;\n",
       "    }\n",
       "\n",
       "    .dataframe tbody tr th {\n",
       "        vertical-align: top;\n",
       "    }\n",
       "\n",
       "    .dataframe thead th {\n",
       "        text-align: right;\n",
       "    }\n",
       "</style>\n",
       "<table border=\"1\" class=\"dataframe\">\n",
       "  <thead>\n",
       "    <tr style=\"text-align: right;\">\n",
       "      <th></th>\n",
       "      <th>Survived</th>\n",
       "      <th>Sex</th>\n",
       "      <th>Age</th>\n",
       "      <th>SibSp</th>\n",
       "      <th>Parch</th>\n",
       "      <th>Fare</th>\n",
       "      <th>Emb_1.0</th>\n",
       "      <th>Emb_2.0</th>\n",
       "      <th>Emb_3.0</th>\n",
       "      <th>Clase_1.0</th>\n",
       "      <th>Clase_2.0</th>\n",
       "      <th>Clase_3.0</th>\n",
       "    </tr>\n",
       "  </thead>\n",
       "  <tbody>\n",
       "    <tr>\n",
       "      <th>0</th>\n",
       "      <td>0</td>\n",
       "      <td>0</td>\n",
       "      <td>22</td>\n",
       "      <td>1</td>\n",
       "      <td>0</td>\n",
       "      <td>7.2500</td>\n",
       "      <td>1</td>\n",
       "      <td>0</td>\n",
       "      <td>0</td>\n",
       "      <td>0</td>\n",
       "      <td>0</td>\n",
       "      <td>1</td>\n",
       "    </tr>\n",
       "    <tr>\n",
       "      <th>1</th>\n",
       "      <td>1</td>\n",
       "      <td>1</td>\n",
       "      <td>38</td>\n",
       "      <td>1</td>\n",
       "      <td>0</td>\n",
       "      <td>71.2833</td>\n",
       "      <td>0</td>\n",
       "      <td>1</td>\n",
       "      <td>0</td>\n",
       "      <td>1</td>\n",
       "      <td>0</td>\n",
       "      <td>0</td>\n",
       "    </tr>\n",
       "    <tr>\n",
       "      <th>2</th>\n",
       "      <td>1</td>\n",
       "      <td>1</td>\n",
       "      <td>26</td>\n",
       "      <td>0</td>\n",
       "      <td>0</td>\n",
       "      <td>7.9250</td>\n",
       "      <td>1</td>\n",
       "      <td>0</td>\n",
       "      <td>0</td>\n",
       "      <td>0</td>\n",
       "      <td>0</td>\n",
       "      <td>1</td>\n",
       "    </tr>\n",
       "    <tr>\n",
       "      <th>3</th>\n",
       "      <td>1</td>\n",
       "      <td>1</td>\n",
       "      <td>35</td>\n",
       "      <td>1</td>\n",
       "      <td>0</td>\n",
       "      <td>53.1000</td>\n",
       "      <td>1</td>\n",
       "      <td>0</td>\n",
       "      <td>0</td>\n",
       "      <td>1</td>\n",
       "      <td>0</td>\n",
       "      <td>0</td>\n",
       "    </tr>\n",
       "    <tr>\n",
       "      <th>4</th>\n",
       "      <td>0</td>\n",
       "      <td>0</td>\n",
       "      <td>35</td>\n",
       "      <td>0</td>\n",
       "      <td>0</td>\n",
       "      <td>8.0500</td>\n",
       "      <td>1</td>\n",
       "      <td>0</td>\n",
       "      <td>0</td>\n",
       "      <td>0</td>\n",
       "      <td>0</td>\n",
       "      <td>1</td>\n",
       "    </tr>\n",
       "  </tbody>\n",
       "</table>\n",
       "</div>"
      ],
      "text/plain": [
       "  Survived Sex  Age  SibSp  Parch     Fare  Emb_1.0  Emb_2.0  Emb_3.0  \\\n",
       "0        0   0   22      1      0   7.2500        1        0        0   \n",
       "1        1   1   38      1      0  71.2833        0        1        0   \n",
       "2        1   1   26      0      0   7.9250        1        0        0   \n",
       "3        1   1   35      1      0  53.1000        1        0        0   \n",
       "4        0   0   35      0      0   8.0500        1        0        0   \n",
       "\n",
       "   Clase_1.0  Clase_2.0  Clase_3.0  \n",
       "0          0          0          1  \n",
       "1          1          0          0  \n",
       "2          0          0          1  \n",
       "3          1          0          0  \n",
       "4          0          0          1  "
      ]
     },
     "execution_count": 29,
     "metadata": {},
     "output_type": "execute_result"
    }
   ],
   "source": [
    "df_corr=train.drop(['PassengerId'],axis=1)[['Survived','Sex','Age','SibSp','Parch','Fare','Embarked','Pclass']]\n",
    "df_corr=pd.get_dummies(df_corr, prefix=['Emb', 'Clase'], columns=['Embarked', 'Pclass'])\n",
    "df_corr.head(5)"
   ]
  },
  {
   "cell_type": "code",
   "execution_count": 30,
   "metadata": {},
   "outputs": [
    {
     "data": {
      "text/html": [
       "<div>\n",
       "<style scoped>\n",
       "    .dataframe tbody tr th:only-of-type {\n",
       "        vertical-align: middle;\n",
       "    }\n",
       "\n",
       "    .dataframe tbody tr th {\n",
       "        vertical-align: top;\n",
       "    }\n",
       "\n",
       "    .dataframe thead th {\n",
       "        text-align: right;\n",
       "    }\n",
       "</style>\n",
       "<table border=\"1\" class=\"dataframe\">\n",
       "  <thead>\n",
       "    <tr style=\"text-align: right;\">\n",
       "      <th></th>\n",
       "      <th>0</th>\n",
       "    </tr>\n",
       "  </thead>\n",
       "  <tbody>\n",
       "    <tr>\n",
       "      <th>Survived</th>\n",
       "      <td>1.000000</td>\n",
       "    </tr>\n",
       "    <tr>\n",
       "      <th>Sex</th>\n",
       "      <td>-0.144367</td>\n",
       "    </tr>\n",
       "    <tr>\n",
       "      <th>Age</th>\n",
       "      <td>0.195204</td>\n",
       "    </tr>\n",
       "    <tr>\n",
       "      <th>SibSp</th>\n",
       "      <td>0.254512</td>\n",
       "    </tr>\n",
       "    <tr>\n",
       "      <th>Parch</th>\n",
       "      <td>0.259593</td>\n",
       "    </tr>\n",
       "    <tr>\n",
       "      <th>Fare</th>\n",
       "      <td>-0.125722</td>\n",
       "    </tr>\n",
       "    <tr>\n",
       "      <th>Emb_1.0</th>\n",
       "      <td>0.090223</td>\n",
       "    </tr>\n",
       "    <tr>\n",
       "      <th>Emb_2.0</th>\n",
       "      <td>0.074115</td>\n",
       "    </tr>\n",
       "    <tr>\n",
       "      <th>Emb_3.0</th>\n",
       "      <td>0.098013</td>\n",
       "    </tr>\n",
       "    <tr>\n",
       "      <th>Clase_1.0</th>\n",
       "      <td>0.064746</td>\n",
       "    </tr>\n",
       "    <tr>\n",
       "      <th>Clase_2.0</th>\n",
       "      <td>-0.137143</td>\n",
       "    </tr>\n",
       "    <tr>\n",
       "      <th>Clase_3.0</th>\n",
       "      <td>0.543351</td>\n",
       "    </tr>\n",
       "  </tbody>\n",
       "</table>\n",
       "</div>"
      ],
      "text/plain": [
       "                  0\n",
       "Survived   1.000000\n",
       "Sex       -0.144367\n",
       "Age        0.195204\n",
       "SibSp      0.254512\n",
       "Parch      0.259593\n",
       "Fare      -0.125722\n",
       "Emb_1.0    0.090223\n",
       "Emb_2.0    0.074115\n",
       "Emb_3.0    0.098013\n",
       "Clase_1.0  0.064746\n",
       "Clase_2.0 -0.137143\n",
       "Clase_3.0  0.543351"
      ]
     },
     "execution_count": 30,
     "metadata": {},
     "output_type": "execute_result"
    }
   ],
   "source": [
    "pd.DataFrame(spearmanr(df_corr.iloc[:,1:],df_corr.iloc[:,0])[0][0],index=df_corr.columns[:])"
   ]
  },
  {
   "cell_type": "markdown",
   "metadata": {},
   "source": [
    "El **Análsis de Correlaciones** ha sido llevado a cabo a través del coeficiente de correlación de **Spearman** dado que las variables tomadas en cuenta no se distribuyen de manera normal. Cabe destacar que se han incluido las variables categóricas, creando **dummy categories** para aquellas variables multifactoriales. \n",
    "\n",
    "A partir de los datos obtenidos se observan los siguientes aspectos:\n",
    " - La clase 3 es la que mayor correlación dispone con Survived, lo que sugiere una mayor mortalidad entre los viajeros humildes.\n",
    " - SibSp y Parch disponen de cierta importancia en cuanto a correlación, aunque no generen diferencias estadísticas entre grupos según el test de Wilcoxon. Esto puede deberse a que las personas sin familia murieran en mucho mayor proporción.\n",
    " - El coeficiete de Age sugiere que a mayor edad mayor opción de sobrevivir.\n",
    " - Sex se caracteriza por una mayor correlación entre las mujeres(valor 0) y la supervivencia.\n",
    " - La ligera correlación inversa de Fare sugieren que los valores que no hay una relación tan directa entre precio y tasa de supervivencia.\n",
    " - Las variables categóricas dummy no muestran correlaciones altas."
   ]
  },
  {
   "cell_type": "markdown",
   "metadata": {},
   "source": [
    "### Random Forest Classifier"
   ]
  },
  {
   "cell_type": "markdown",
   "metadata": {},
   "source": [
    "De cara a aplicar un modelo como **Random Forest Classifier**, procederemos a aplicar la división del conjunto de datos **train** en el conjunto de datos train y test. Cabe destacar que pese a que este dataframe es un dataframe de entrenamiento, esto se debe al hecho de que el objetivo del proyecto sea generar un modelo predictivo que permita predecir con la máxima precisión la clase de las instancias de **test**. Sin embargo, con tal de afinar los parametros del mejor modo posible, se necesitará un conjunto de entrenamiento y otro de testeo."
   ]
  },
  {
   "cell_type": "markdown",
   "metadata": {},
   "source": [
    "Previo a la separación de **df_train1** en el conjunto de entrenamiento y testeo, asignamos los atributos a la variable data y la clase a target."
   ]
  },
  {
   "cell_type": "code",
   "execution_count": 31,
   "metadata": {},
   "outputs": [],
   "source": [
    "data_train=train.drop(['PassengerId','SibSp','Parch','Survived'],axis=1)\n",
    "data_test=test.drop(['PassengerId','SibSp','Parch'],axis=1)\n",
    "target=train[['Survived']]"
   ]
  },
  {
   "cell_type": "markdown",
   "metadata": {},
   "source": [
    "Generamos conjuntos de entrenamiento y testeo y convertimos a integer todas las variables objetivo:"
   ]
  },
  {
   "cell_type": "code",
   "execution_count": 32,
   "metadata": {},
   "outputs": [],
   "source": [
    "x_train, x_test, y_train, y_test = train_test_split(data_train, target, test_size=0.20, random_state=42)\n",
    "y_train=y_train.astype('int')\n",
    "y_test=y_test.astype('int')\n",
    "target=target.astype('int')"
   ]
  },
  {
   "cell_type": "markdown",
   "metadata": {},
   "source": [
    "Estandarizamos los dataframes:"
   ]
  },
  {
   "cell_type": "code",
   "execution_count": 33,
   "metadata": {},
   "outputs": [],
   "source": [
    "standard_scaler = StandardScaler()\n",
    "data_train = standard_scaler.fit_transform(data_train)\n",
    "data_test = standard_scaler.fit_transform(data_test)\n",
    "x_train = standard_scaler.fit_transform(x_train)\n",
    "x_test = standard_scaler.transform(x_test)"
   ]
  },
  {
   "cell_type": "markdown",
   "metadata": {},
   "source": [
    "Aplicamos modelo Random Forest Classifier con un Stratified K Fold Cross Validation, así como un Grid Search que nos permita identificar la mejor combinación de hiperparametros."
   ]
  },
  {
   "cell_type": "code",
   "execution_count": 34,
   "metadata": {},
   "outputs": [
    {
     "name": "stdout",
     "output_type": "stream",
     "text": [
      "Fitting 5 folds for each of 60 candidates, totalling 300 fits\n"
     ]
    },
    {
     "name": "stderr",
     "output_type": "stream",
     "text": [
      "[Parallel(n_jobs=-1)]: Using backend LokyBackend with 4 concurrent workers.\n",
      "[Parallel(n_jobs=-1)]: Done  42 tasks      | elapsed:    6.6s\n",
      "[Parallel(n_jobs=-1)]: Done 192 tasks      | elapsed:   18.9s\n",
      "[Parallel(n_jobs=-1)]: Done 300 out of 300 | elapsed:   29.2s finished\n"
     ]
    },
    {
     "name": "stdout",
     "output_type": "stream",
     "text": [
      "\u001b[1mMejor resultado:\u001b[0m 0.856341189674523\n",
      "\u001b[1mMejores parametros:\u001b[0m {'criterion': 'gini', 'max_depth': 10, 'max_features': 'auto', 'n_estimators': 150}\n"
     ]
    }
   ],
   "source": [
    "# Stratified Cross-Validation\n",
    "skf = StratifiedKFold(n_splits=5,\n",
    "                      shuffle=True,\n",
    "                      random_state=42)\n",
    "# Parametros del grid\n",
    "grid_params={'max_depth':[3,5,8,10,15,25],\n",
    "            'n_estimators':[10,25,50,100,150],\n",
    "            'max_features': ['auto'],\n",
    "            'criterion': ['gini', 'entropy']}\n",
    "# Objeto grid\n",
    "clf_rtree = GridSearchCV(RandomForestClassifier(), \n",
    "                         grid_params,\n",
    "                         cv=skf,\n",
    "                         verbose=1,\n",
    "                         n_jobs=-1,\n",
    "                         scoring='accuracy',\n",
    "                         return_train_score=True)\n",
    "# Resultado del grid\n",
    "rtree_results=clf_rtree.fit(data_train, target)\n",
    "# Resultados\n",
    "print(b+\"Mejor resultado:\"+n,rtree_results.best_score_)\n",
    "print(b+\"Mejores parametros:\"+n,rtree_results.best_params_)"
   ]
  },
  {
   "cell_type": "markdown",
   "metadata": {},
   "source": [
    "Comprobamos resultados de los hiperparametros optimos sobre el conjunto de test:"
   ]
  },
  {
   "cell_type": "code",
   "execution_count": 35,
   "metadata": {},
   "outputs": [
    {
     "name": "stdout",
     "output_type": "stream",
     "text": [
      "\u001b[1mPrecisión del módelo predictivo sobre conjunto de test:\u001b[0m 0.9274\n"
     ]
    }
   ],
   "source": [
    "# Creamos modelo a partir de hiperparametros óptimos\n",
    "model = RandomForestClassifier(criterion=rtree_results.best_params_['criterion'],\n",
    "                               max_depth=rtree_results.best_params_['max_depth'],\n",
    "                               max_features=rtree_results.best_params_['max_features'],\n",
    "                               n_estimators=rtree_results.best_params_['n_estimators'],\n",
    "                               random_state=0)\n",
    "# Entrenamiento del modelo\n",
    "model.fit(data_train, target)\n",
    "# Generación de predicciones\n",
    "prediction=model.predict(x_test)\n",
    "# Calculo de precisión de resultados\n",
    "accuracy=accuracy_score(y_test, prediction)\n",
    "# Output\n",
    "print(f'{b}Precisión del módelo predictivo sobre conjunto de test:{n} {accuracy:.4f}')"
   ]
  },
  {
   "cell_type": "markdown",
   "metadata": {},
   "source": [
    "Se puede observar como el modelo generado a partir de los parametros óptimos saliente del Grid Search K-Fold Cross Validation da como mejor resultado una precisión de 0,85; mientras que aplicar eso mismo parametros sobre el conjunto de entrenamiento ofrece una precisión de 0,9106 lo cual mejora los resultados de precisión. Esta configuración de hiperparametros da resultado de precisión suficientemene buenos como para generar las predicciones del conjunto de test."
   ]
  },
  {
   "cell_type": "markdown",
   "metadata": {},
   "source": [
    "# Aplicación Modelo Predictivo en Test"
   ]
  },
  {
   "cell_type": "code",
   "execution_count": 36,
   "metadata": {},
   "outputs": [],
   "source": [
    "# Modelo predictivo\n",
    "model = RandomForestClassifier(criterion=rtree_results.best_params_['criterion'],\n",
    "                               max_depth=rtree_results.best_params_['max_depth'],\n",
    "                               max_features=rtree_results.best_params_['max_features'],\n",
    "                               n_estimators=rtree_results.best_params_['n_estimators'],\n",
    "                               random_state=0)\n",
    "# Entrenamiento\n",
    "model.fit(data_train, target)\n",
    "# Generación predicciones\n",
    "prediction_test=model.predict(data_test)"
   ]
  },
  {
   "cell_type": "code",
   "execution_count": 37,
   "metadata": {},
   "outputs": [],
   "source": [
    "predicciones=pd.Series(prediction_test).astype(int)\n",
    "df_pred=pd.concat([df_test,predicciones],axis=1).rename(columns={0:'Survived'})\n",
    "submission=df_pred[['PassengerId','Survived']]\n",
    "# Guardado predicciones\n",
    "submission.to_csv('Titanic_Survived_Predictions.csv',header=True,index = False)\n",
    "df_pred.to_csv('Df_Titanic_Survived_Predictions.csv',header=True,index = False)"
   ]
  },
  {
   "cell_type": "markdown",
   "metadata": {},
   "source": [
    "# Representación de Datos: Tablas y Gráficas"
   ]
  },
  {
   "cell_type": "markdown",
   "metadata": {},
   "source": [
    "A continuación se procederá a mostrar las variables tenidas en cuenta para la construcción del módelo, así como aquellas que han sido descartadas a partir de los resultados de las pruebas de significaión como Wilcoxon. Cabe destacar que para representar la variable Age, esta variable ha sido discretizada de manera que se pueda visualizar de mejor manera este atributo."
   ]
  },
  {
   "cell_type": "code",
   "execution_count": 38,
   "metadata": {},
   "outputs": [],
   "source": [
    "train1=train.copy()\n",
    "bins = pd.IntervalIndex.from_tuples([(-1,6),(6, 11),(11, 16),(16, 21),\n",
    "                                     (21,26),(26, 31),(31, 36),(36, 41),\n",
    "                                     (41,46),(46,51),(51,56),(56,61),\n",
    "                                     (61,66),(66,71),(71,76),(76,81),])\n",
    "train1['Age2']=pd.cut(train1['Age'], bins)"
   ]
  },
  {
   "cell_type": "code",
   "execution_count": 39,
   "metadata": {},
   "outputs": [
    {
     "data": {
      "text/plain": [
       "<Figure size 576x396 with 0 Axes>"
      ]
     },
     "metadata": {},
     "output_type": "display_data"
    },
    {
     "data": {
      "image/png": "[encoded data removed]",
      "text/plain": [
       "<Figure size 1080x864 with 8 Axes>"
      ]
     },
     "metadata": {},
     "output_type": "display_data"
    }
   ],
   "source": [
    "sns.set_style(\"white\")\n",
    "sns.despine()\n",
    "fig,ax=plt.subplots(4,2,figsize=(15,12))\n",
    "\n",
    "sns.countplot(train1['Sex'],hue=train1['Survived'],ax=ax[0,0])\n",
    "sns.countplot(train1['Age2'],hue=train1['Survived'],ax=ax[0,1])\n",
    "sns.countplot(train1['SibSp'],hue=train1['Survived'],ax=ax[1,0])\n",
    "sns.countplot(train1['Parch'],hue=train1['Survived'],ax=ax[1,1])\n",
    "sns.countplot(train1['Embarked'],hue=train1['Survived'],ax=ax[2,0])\n",
    "sns.countplot(train1['Pclass'],hue=train1['Survived'],ax=ax[2,1])\n",
    "sns.countplot(train1['Fare'],hue=train1['Survived'],ax=ax[3,0])\n",
    "\n",
    "\n",
    "ax[0,0].set_title(\"Género\",fontsize=15)\n",
    "ax[0,1].set_title(\"Edad\",fontsize=15)\n",
    "ax[1,0].set_title('Hermanos/as & Pareja',fontsize=15)\n",
    "ax[1,1].set_title(\"Padres e Hijos\",fontsize=15)\n",
    "ax[2,0].set_title(\"Lugar de Embarque\",fontsize=15)\n",
    "ax[2,1].set_title('Clase',fontsize=15)\n",
    "\n",
    "st=fig.suptitle(\"Compartamiento Variables vs. Survived\",fontsize=25)\n",
    "plt.tight_layout()\n",
    "\n",
    "#Fijar lugar de titulo superior\n",
    "st.set_y(0.98)\n",
    "fig.subplots_adjust(top=0.92)"
   ]
  },
  {
   "cell_type": "markdown",
   "metadata": {},
   "source": [
    "A partir de las pruebas de significación hemos observado como todas las variables salvo SibSp y Parch generan diferencias estadísticamente significativas entre las personas que sobrevivieron y murieron en el hundimiento del Titanic. A nivel de atributos específicos se observa lo siguiente:\n",
    " - Las mujeres(1.0) sobrevieron en mayor proporción que los hombres(0.0).\n",
    " - Los menores de 16 años parecen sobrevivir más,mientras que el resto dispone de mayor proporción de muertos que supervivientes.\n",
    " - Las personas que embarcaron en Southampton(1.0) murieron en mayor proporción, al mismo tiempo que fue el origen con mayor número de pasajeros embarcados. Por otro lado, hubo más supervivientes entre los embarcados en Cherburgo(2.0), mientras que el caso de Queenstown(3.0) murieron más personas que sobrevivieron.\n",
    " - Las personas de clase 3 murieron en una proporción significativamente mayor, mientras que los de clase 2 mantienen un equilibrio y en la clase 1 sobrevivieron más personas de las que murieron.\n",
    " - En cuanto mayor es el precio del billete, aumenta la proporción de supervivientes.\n",
    "\n",
    "En cuanto a las variables SibSp y Parch, las cuales como hemos mencionados previamente no generan diferencias estadísticamente significativas entre aquellos que sobrevivieron y aquellos que no, según el test de Wilcoxon observamos:\n",
    "\n",
    " - Aquellas personas si parientes de un tipo u otro murieron en mucha mayor proporción, mientras que aquellas con algún tipo de familiar sobrevivieron en la misma proporción a morir. Solo disponer de diferencias significativas en uno de los valores(0) puede ser la razón para no poder rechazar la hipótesis nula del test de wilcoxon."
   ]
  },
  {
   "cell_type": "markdown",
   "metadata": {},
   "source": [
    "# Conclusiones"
   ]
  },
  {
   "cell_type": "markdown",
   "metadata": {},
   "source": [
    "A modo de conclusión, cabe destacar que hemos partido de la selección de atributos con mayor potencial para generar un modelo predictivo, para a continuación realizar la imputación de valores ausentes a través del método k-Nearest Neighbors y realizar un análisis de los valores extremos. \n",
    "\n",
    "Una vez en disposición de un dataframe preprocesado se ha procedido a comprobar la normalidad y homocedasticidad de los atributos para a continuación aplicar pruebas de significación estadística, Wilcoxon en caso de las numéricas y el tes Chi-Cuadrado de independencia en el caso de las variables categóricas. También se ha realizado un análisis de correlaciones, generando categorías dummy para poder incluir las variables categóricas; y  así por último desarrollar un modelo predictivo utilizando un clasificador Random Forest.\n",
    "\n",
    "A partir de los test de significación se ha podido identificar las variables a tomar en cuentas para la creación del modelo predictivo, mientras que el análisis de correlaciones nos ha permitido conocer la influencia de cada variable y la dirección respeto a la supervivencia o no de los pasajeros.\n",
    "\n",
    "Por último se ha realizado visualizaciones de las variables tomadas en cuenta para la generación del modelo predictivo,así como aquellas descartadas con tal de observar las diferencias entre aquellas personas que sobrevivieron y no al hundimiento.\n",
    "\n",
    "A modo de resumen, tras haber completado todo este proceso y viendo los resultado de precisión obtenidos con el conjunto test del dataframe **train**, el cual ha alcanzado 0.9274, frente al 0.856 del Grid Search Cross Validation, podemos concluir que se ha generado un modelo con una capacidad predictiva significativa que permite cumplir con el objetivo establecido al principio del proyecto."
   ]
  }
 ],
 "metadata": {
  "kernelspec": {
   "display_name": "Python 3",
   "language": "python",
   "name": "python3"
  },
  "language_info": {
   "codemirror_mode": {
    "name": "ipython",
    "version": 3
   },
   "file_extension": ".py",
   "mimetype": "text/x-python",
   "name": "python",
   "nbconvert_exporter": "python",
   "pygments_lexer": "ipython3",
   "version": "3.7.4"
  },
  "toc": {
   "base_numbering": 1,
   "nav_menu": {},
   "number_sections": true,
   "sideBar": true,
   "skip_h1_title": false,
   "title_cell": "Table of Contents",
   "title_sidebar": "Contents",
   "toc_cell": false,
   "toc_position": {
    "height": "calc(100% - 180px)",
    "left": "10px",
    "top": "150px",
    "width": "321.6px"
   },
   "toc_section_display": true,
   "toc_window_display": true
  }
 },
 "nbformat": 4,
 "nbformat_minor": 2
}
